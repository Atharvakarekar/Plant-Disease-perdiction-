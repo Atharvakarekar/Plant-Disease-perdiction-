{
 "cells": [
  {
   "cell_type": "code",
   "execution_count": null,
   "id": "a3a7a368",
   "metadata": {},
   "outputs": [
    {
     "name": "stdout",
     "output_type": "stream",
     "text": [
      "Found 68653 images belonging to 37 classes.\n",
      "Found 17162 images belonging to 37 classes.\n",
      "Epoch 1/10\n",
      "125/125 [==============================] - ETA: 0s - loss: 1.9779 - accuracy: 0.4900"
     ]
    },
    {
     "name": "stderr",
     "output_type": "stream",
     "text": [
      "WARNING:absl:Function `_wrapped_model` contains input name(s) mobilenet_1.00_224_input with unsupported characters which will be renamed to mobilenet_1_00_224_input in the SavedModel.\n",
      "WARNING:absl:`mobilenet_1.00_224_input` is not a valid tf.function parameter name. Sanitizing to `mobilenet_1_00_224_input`.\n",
      "WARNING:absl:`mobilenet_1.00_224_input` is not a valid tf.function parameter name. Sanitizing to `mobilenet_1_00_224_input`.\n",
      "WARNING:absl:`mobilenet_1.00_224_input` is not a valid tf.function parameter name. Sanitizing to `mobilenet_1_00_224_input`.\n"
     ]
    }
   ],
   "source": [
    "import tensorflow as tf\n",
    "from tensorflow.keras.preprocessing.image import ImageDataGenerator\n",
    "from tensorflow.keras.applications import MobileNet\n",
    "from tensorflow.keras.models import Sequential\n",
    "from tensorflow.keras.layers import GlobalAveragePooling2D, Dense\n",
    "\n",
    "# Set the input image dimensions and number of classes\n",
    "img_width, img_height = 224, 224\n",
    "num_classes = 37\n",
    "\n",
    "# Load the pre-trained MobileNet model\n",
    "base_model = MobileNet(weights='imagenet', include_top=False, input_shape=(img_width, img_height, 3))\n",
    "\n",
    "# Freeze the pre-trained layers\n",
    "for layer in base_model.layers:\n",
    "    layer.trainable = False\n",
    "\n",
    "# Create the model\n",
    "model = Sequential()\n",
    "model.add(base_model)\n",
    "model.add(GlobalAveragePooling2D())\n",
    "model.add(Dense(128, activation='relu'))\n",
    "model.add(Dense(num_classes, activation='softmax'))\n",
    "\n",
    "# Compile the model\n",
    "model.compile(optimizer='adam', loss='categorical_crossentropy', metrics=['accuracy'])\n",
    "\n",
    "# Set the paths to your training and validation data directories\n",
    "train_data_dir = r'C:\\Users\\Pratima\\Documents\\GitHub\\Plant-Disease-perdiction-\\New Plant Diseases Dataset(Augmented)\\New Plant Diseases Dataset(Augmented)\\train'\n",
    "validation_data_dir = r'C:\\Users\\Pratima\\Documents\\GitHub\\Plant-Disease-perdiction-\\New Plant Diseases Dataset(Augmented)\\New Plant Diseases Dataset(Augmented)\\valid'\n",
    "\n",
    "# Set the batch size and number of training steps per epoch\n",
    "batch_size = 16  # Reduced batch size\n",
    "num_train_samples = 2000\n",
    "num_validation_samples = 800\n",
    "epochs = 10\n",
    "\n",
    "# Apply data augmentation to enrich the training dataset\n",
    "train_datagen = ImageDataGenerator(rescale=1.0/255,\n",
    "                                   shear_range=0.2,\n",
    "                                   zoom_range=0.2,\n",
    "                                   horizontal_flip=True)\n",
    "\n",
    "# Normalize the validation data\n",
    "validation_datagen = ImageDataGenerator(rescale=1.0/255)\n",
    "\n",
    "# Load and preprocess the training data\n",
    "train_generator = train_datagen.flow_from_directory(train_data_dir,\n",
    "                                                    target_size=(img_width, img_height),\n",
    "                                                    batch_size=batch_size,\n",
    "                                                    class_mode='categorical')\n",
    "\n",
    "# Load and preprocess the validation data\n",
    "validation_generator = validation_datagen.flow_from_directory(validation_data_dir,\n",
    "                                                              target_size=(img_width, img_height),\n",
    "                                                              batch_size=batch_size,\n",
    "                                                              class_mode='categorical')\n",
    "\n",
    "# Enable mixed precision training\n",
    "optimizer = tf.keras.optimizers.Adam()\n",
    "optimizer = tf.keras.mixed_precision.LossScaleOptimizer(optimizer)\n",
    "\n",
    "# Define model checkpointing\n",
    "checkpoint_filepath = 'model_checkpoints/checkpoint'\n",
    "model_checkpoint_callback = tf.keras.callbacks.ModelCheckpoint(\n",
    "    filepath=checkpoint_filepath,\n",
    "    save_weights_only=False,\n",
    "    monitor='val_loss',\n",
    "    mode='min',\n",
    "    save_best_only=True\n",
    ")\n",
    "\n",
    "# Train the model\n",
    "model.fit(train_generator,\n",
    "          steps_per_epoch=num_train_samples // batch_size,\n",
    "          epochs=epochs,\n",
    "          validation_data=validation_generator,\n",
    "          validation_steps=num_validation_samples // batch_size,\n",
    "          callbacks=[model_checkpoint_callback])\n",
    "\n",
    "# Save the trained model\n",
    "model.save('plant_disease_detection_model.h5')\n"
   ]
  },
  {
   "cell_type": "code",
   "execution_count": null,
   "id": "79b9624a",
   "metadata": {},
   "outputs": [],
   "source": []
  }
 ],
 "metadata": {
  "kernelspec": {
   "display_name": "Python 3 (ipykernel)",
   "language": "python",
   "name": "python3"
  },
  "language_info": {
   "codemirror_mode": {
    "name": "ipython",
    "version": 3
   },
   "file_extension": ".py",
   "mimetype": "text/x-python",
   "name": "python",
   "nbconvert_exporter": "python",
   "pygments_lexer": "ipython3",
   "version": "3.9.12"
  }
 },
 "nbformat": 4,
 "nbformat_minor": 5
}
